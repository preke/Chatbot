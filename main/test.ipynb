{
 "cells": [
  {
   "cell_type": "code",
   "execution_count": 23,
   "id": "d04dd4ac",
   "metadata": {},
   "outputs": [],
   "source": [
    "\n",
    "\n"
   ]
  },
  {
   "cell_type": "code",
   "execution_count": 43,
   "id": "e85fb088",
   "metadata": {},
   "outputs": [
    {
     "name": "stderr",
     "output_type": "stream",
     "text": [
      "tokenizing: 1it [00:00, 2053.01it/s]\n",
      "tokenizing: 1it [00:00, 2156.45it/s]\n",
      "tokenizing: 1it [00:00, 2279.51it/s]\n",
      "tokenizing: 1it [00:00, 2262.30it/s]\n",
      "tokenizing: 1it [00:00, 2257.43it/s]\n",
      "/tmp/ipykernel_30925/1756842318.py:86: UserWarning: Implicit dimension choice for softmax has been deprecated. Change the call to include dim=X as an argument.\n",
      "  score = int(F.softmax(logits_all_templates)[1]*100)\n",
      "tokenizing: 1it [00:00, 2649.59it/s]\n",
      "tokenizing: 1it [00:00, 2185.67it/s]\n",
      "tokenizing: 1it [00:00, 2185.67it/s]\n",
      "tokenizing: 1it [00:00, 2295.73it/s]\n",
      "tokenizing: 1it [00:00, 2632.96it/s]\n",
      "/tmp/ipykernel_30925/1756842318.py:86: UserWarning: Implicit dimension choice for softmax has been deprecated. Change the call to include dim=X as an argument.\n",
      "  score = int(F.softmax(logits_all_templates)[1]*100)\n",
      "tokenizing: 1it [00:00, 2263.52it/s]\n",
      "tokenizing: 1it [00:00, 1982.19it/s]\n",
      "tokenizing: 1it [00:00, 1915.21it/s]\n",
      "tokenizing: 1it [00:00, 1979.38it/s]\n",
      "tokenizing: 1it [00:00, 2272.10it/s]\n",
      "/tmp/ipykernel_30925/1756842318.py:86: UserWarning: Implicit dimension choice for softmax has been deprecated. Change the call to include dim=X as an argument.\n",
      "  score = int(F.softmax(logits_all_templates)[1]*100)\n",
      "tokenizing: 1it [00:00, 2304.56it/s]\n",
      "tokenizing: 1it [00:00, 2310.91it/s]\n",
      "tokenizing: 1it [00:00, 2193.67it/s]\n",
      "tokenizing: 1it [00:00, 2027.21it/s]\n",
      "tokenizing: 1it [00:00, 2076.39it/s]\n",
      "/tmp/ipykernel_30925/1756842318.py:86: UserWarning: Implicit dimension choice for softmax has been deprecated. Change the call to include dim=X as an argument.\n",
      "  score = int(F.softmax(logits_all_templates)[1]*100)\n",
      "tokenizing: 1it [00:00, 2181.13it/s]\n",
      "tokenizing: 1it [00:00, 1846.90it/s]\n",
      "tokenizing: 1it [00:00, 2162.01it/s]\n",
      "tokenizing: 1it [00:00, 2431.48it/s]\n",
      "tokenizing: 1it [00:00, 2200.58it/s]\n",
      "/tmp/ipykernel_30925/1756842318.py:86: UserWarning: Implicit dimension choice for softmax has been deprecated. Change the call to include dim=X as an argument.\n",
      "  score = int(F.softmax(logits_all_templates)[1]*100)\n"
     ]
    },
    {
     "data": {
      "text/plain": [
       "[60, 64, 62, 48, 50]"
      ]
     },
     "execution_count": 43,
     "metadata": {},
     "output_type": "execute_result"
    }
   ],
   "source": []
  }
 ],
 "metadata": {
  "kernelspec": {
   "display_name": "Python 3 (ipykernel)",
   "language": "python",
   "name": "python3"
  },
  "language_info": {
   "codemirror_mode": {
    "name": "ipython",
    "version": 3
   },
   "file_extension": ".py",
   "mimetype": "text/x-python",
   "name": "python",
   "nbconvert_exporter": "python",
   "pygments_lexer": "ipython3",
   "version": "3.9.7"
  }
 },
 "nbformat": 4,
 "nbformat_minor": 5
}
