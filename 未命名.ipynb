{
 "cells": [
  {
   "cell_type": "code",
   "execution_count": 10,
   "id": "40eb04cd",
   "metadata": {},
   "outputs": [],
   "source": [
    "import numpy as np\n",
    "\n",
    "def emotionGenerationBERT(user_emo, user_post, personality):\n",
    "\n",
    "    if personality == 'A':\n",
    "        response_emo_prob = np.array([i/sum(A_dict[user_emo]) for i in A_dict[user_emo]])\n",
    "        index = np.random.choice([0, 1, 2, 3, 4, 5], p = response_emo_prob.ravel())\n",
    "        response_emo = emo_dict[index]\n",
    "    elif personality == 'C':\n",
    "        response_emo_prob = np.array([i/sum(C_dict[user_emo]) for i in C_dict[user_emo]])\n",
    "        index = np.random.choice([0, 1, 2, 3, 4, 5], p = response_emo_prob.ravel())\n",
    "        response_emo = emo_dict[index]\n",
    "    elif personality == 'E':\n",
    "        response_emo_prob = np.array([i/sum(E_dict[user_emo]) for i in E_dict[user_emo]])\n",
    "        index = np.random.choice([0, 1, 2, 3, 4, 5], p = response_emo_prob.ravel())\n",
    "        response_emo = emo_dict[index]\n",
    "    elif personality == 'O':\n",
    "        response_emo_prob = np.array([i/sum(O_dict[user_emo]) for i in O_dict[user_emo]])\n",
    "        index = np.random.choice([0, 1, 2, 3, 4, 5], p = response_emo_prob.ravel())\n",
    "        response_emo = emo_dict[index]\n",
    "    elif personality == 'N':\n",
    "        response_emo_prob = np.array([i/sum(N_dict[user_emo]) for i in N_dict[user_emo]])\n",
    "        index = np.random.choice([0, 1, 2, 3, 4, 5], p = response_emo_prob.ravel())\n",
    "        response_emo = emo_dict[index]\n",
    "    return response_emo\n",
    "\n",
    "emo_dict = {\n",
    "    0: 'joy',\n",
    "    1: 'surprise',\n",
    "    2: 'anger',\n",
    "    3: 'sadness',\n",
    "    4: 'fear',\n",
    "    5: 'disgust' \n",
    "}\n",
    "\n",
    "\n",
    "O_dict = {\n",
    "    \"joy\": [0.39, 0.05, 0.06, 0.05, 0.06, 0.01], \n",
    "    \"surprise\": [0.15, 0.24, 0.11, 0.05, 0.02, 0.08], \n",
    "    \"anger\": [0.12, 0.08, 0.38, 0.09, 0.04, 0.02], \n",
    "    \"sadness\": [0.17, 0.08, 0.09, 0.25, 0.05, 0.02], \n",
    "    \"fear\": [0.19, 0.02, 0.21, 0.12, 0.21, 0.00], \n",
    "    \"disgust\": [0.07, 0.13, 0.07, 0.13, 0.07, 0.20]\n",
    "}\n",
    "\n",
    "\n",
    "C_dict = {\n",
    "    \"joy\": [0.37, 0.08, 0.07, 0.06, 0.06, 0.00], \n",
    "    \"surprise\": [0.15, 0.27, 0.10, 0.04, 0.01, 0.08], \n",
    "    \"anger\": [0.11, 0.07, 0.44, 0.05, 0.07, 0.01], \n",
    "    \"sadness\": [0.09, 0.08, 0.17, 0.25, 0.09, 0.03], \n",
    "    \"fear\": [0.11, 0.03, 0.20, 0.09, 0.35, 0.01], \n",
    "    \"disgust\": [0.11, 0.15, 0.19, 0.04, 0.04, 0.22]\n",
    "}\n",
    "\n",
    "\n",
    "\n",
    "A_dict = {\n",
    "    \"joy\": [0.29, 0.06, 0.06, 0.03, 0.09, 0.02], \n",
    "    \"surprise\": [0.11, 0.19, 0.09, 0.06, 0.03, 0.08], \n",
    "    \"anger\": [0.07, 0.05, 0.41, 0.09, 0.07, 0.02], \n",
    "    \"sadness\": [0.09, 0.05, 0.18, 0.23, 0.09, 0.03], \n",
    "    \"fear\": [0.15, 0.05, 0.15, 0.06, 0.25, 0.01], \n",
    "    \"disgust\": [0.10, 0.05, 0.15, 0.0, 0.0, 0.25]\n",
    "}\n",
    "\n",
    "\n",
    "E_dict = {\n",
    "    \"joy\": [0.32, 0.10, 0.07, 0.05, 0.07, 0.02], \n",
    "    \"surprise\": [0.15, 0.30, 0.14, 0.08, 0.06, 0.03], \n",
    "    \"anger\": [0.07, 0.05, 0.59, 0.06, 0.04, 0.02], \n",
    "    \"sadness\": [0.08, 0.10, 0.09, 0.30, 0.12, 0.03], \n",
    "    \"fear\": [0.22, 0.05, 0.13, 0.10, 0.28, 0.01], \n",
    "    \"disgust\": [0.00, 0.24, 0.18, 0.12, 0.00, 0.12]\n",
    "}\n",
    "\n",
    "N_dict = {\n",
    "    \"joy\": [0.27, 0.06, 0.07, 0.08, 0.09, 0.00], \n",
    "    \"surprise\": [0.24, 0.24, 0.14, 0.05, 0.02, 0.00], \n",
    "    \"anger\": [0.09, 0.04, 0.42, 0.07, 0.07, 0.02], \n",
    "    \"sadness\": [0.09, 0.05, 0.10, 0.32, 0.05, 0.01], \n",
    "    \"fear\": [0.10, 0.03, 0.17, 0.06, 0.36, 0.00], \n",
    "    \"disgust\": [0.13, 0.07, 0.20, 0.0, 0.0, 0.20]\n",
    "}\n",
    "\n"
   ]
  },
  {
   "cell_type": "code",
   "execution_count": 43,
   "id": "774b2b71",
   "metadata": {},
   "outputs": [
    {
     "data": {
      "text/plain": [
       "'joy'"
      ]
     },
     "execution_count": 43,
     "metadata": {},
     "output_type": "execute_result"
    }
   ],
   "source": [
    "emotionGenerationBERT('joy', \"\", 'A')"
   ]
  }
 ],
 "metadata": {
  "kernelspec": {
   "display_name": "Python 3 (ipykernel)",
   "language": "python",
   "name": "python3"
  },
  "language_info": {
   "codemirror_mode": {
    "name": "ipython",
    "version": 3
   },
   "file_extension": ".py",
   "mimetype": "text/x-python",
   "name": "python",
   "nbconvert_exporter": "python",
   "pygments_lexer": "ipython3",
   "version": "3.9.7"
  }
 },
 "nbformat": 4,
 "nbformat_minor": 5
}
